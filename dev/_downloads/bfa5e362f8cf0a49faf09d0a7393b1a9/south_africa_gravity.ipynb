{
  "cells": [
    {
      "cell_type": "code",
      "execution_count": null,
      "metadata": {
        "collapsed": false
      },
      "outputs": [],
      "source": [
        "%matplotlib inline"
      ]
    },
    {
      "cell_type": "markdown",
      "metadata": {},
      "source": [
        "\nLand Gravity Data from South Africa\n===================================\n\nLand gravity survey performed in January 1986 within the boundaries of the Republic of\nSouth Africa. The data was made available by the `National Centers for Environmental\nInformation (NCEI) <https://www.ngdc.noaa.gov/>`__ (formerly NGDC) and are in the\n`public domain <https://www.ngdc.noaa.gov/ngdcinfo/privacy.html#copyright-notice>`__.\nThe entire dataset is stored in a :class:`pandas.DataFrame` with columns: longitude,\nlatitude, elevation (above sea level) and gravity(mGal). See the documentation for\n:func:`harmonica.datasets.fetch_south_africa_gravity` for more information.\n\n"
      ]
    },
    {
      "cell_type": "code",
      "execution_count": null,
      "metadata": {
        "collapsed": false
      },
      "outputs": [],
      "source": [
        "import matplotlib.pyplot as plt\nimport cartopy.crs as ccrs\nimport verde as vd\nimport harmonica as hm\n\n# Fetch the data in a pandas.DataFrame\ndata = hm.datasets.fetch_south_africa_gravity()\nprint(data)\n\n# Plot the observations in a Mercator map using Cartopy\nfig = plt.figure(figsize=(6.5, 5))\nax = plt.axes(projection=ccrs.Mercator())\nax.set_title(\"Observed gravity data from South Africa\", pad=25)\ntmp = ax.scatter(\n    data.longitude,\n    data.latitude,\n    c=data.gravity,\n    s=0.8,\n    cmap=\"viridis\",\n    transform=ccrs.PlateCarree(),\n)\nplt.colorbar(\n    tmp, ax=ax, label=\"observed gravity [mGal]\", aspect=50, pad=0.1, shrink=0.92\n)\nax.set_extent(vd.get_region((data.longitude, data.latitude)))\nax.gridlines(draw_labels=True)\nax.coastlines()\nplt.tight_layout()\nplt.show()"
      ]
    }
  ],
  "metadata": {
    "kernelspec": {
      "display_name": "Python 3",
      "language": "python",
      "name": "python3"
    },
    "language_info": {
      "codemirror_mode": {
        "name": "ipython",
        "version": 3
      },
      "file_extension": ".py",
      "mimetype": "text/x-python",
      "name": "python",
      "nbconvert_exporter": "python",
      "pygments_lexer": "ipython3",
      "version": "3.6.7"
    }
  },
  "nbformat": 4,
  "nbformat_minor": 0
}