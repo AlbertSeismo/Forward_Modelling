{
  "cells": [
    {
      "cell_type": "code",
      "execution_count": null,
      "metadata": {
        "collapsed": false
      },
      "outputs": [],
      "source": [
        "%matplotlib inline"
      ]
    },
    {
      "cell_type": "markdown",
      "metadata": {},
      "source": [
        "\nGridding and upward continuation\n================================\n\nMost potential field surveys gather data along scattered and uneven flight lines or\nground measurements. For a great number of applications we may need to interpolate these\ndata points onto a regular grid at a constant altitude. Upward-continuation is also a\nroutine task for smoothing, noise attenuation, source separation, etc.\n\nBoth tasks can be done simultaneously through an *equivalent layer* [Dampney1969]_. We\nwill use :class:`harmonica.EQLHarmonic` to estimate the coefficients of a set of point\nsources (the equivalent layer) that fit the observed data. The fitted layer can then be\nused to predict data values wherever we want, like on a grid at a certain altitude. The\nsources for :class:`~harmonica.EQLHarmonic` in particular are placed one beneath each\ndata point at a constant relative depth from the elevation of the data point following\n[Cooper2000]_.\n\nThe advantage of using an equivalent layer is that it takes into account the 3D nature\nof the observations, not just their horizontal positions. It also allows data\nuncertainty to be taken into account and noise to be suppressed though the least-squares\nfitting process. The main disadvantage is the increased computational load (both in\nterms of time and memory).\n\n"
      ]
    },
    {
      "cell_type": "code",
      "execution_count": null,
      "metadata": {
        "collapsed": false
      },
      "outputs": [],
      "source": [
        "import matplotlib.pyplot as plt\nimport numpy as np\nimport pyproj\nimport verde as vd\nimport harmonica as hm\n\n\n# Fetch the sample total-field magnetic anomaly data from Rio de Janeiro\ndata = hm.datasets.fetch_rio_magnetic()\n\n# Slice a smaller portion of the survey data to speed-up calculations for this example\nregion = [-42.35, -42.10, -22.35, -22.15]\ninside = vd.inside((data.longitude, data.latitude), region)\ndata = data[inside]\nprint(\"Number of data points:\", data.shape[0])\n\n# Since this is a small area, we'll project our data and use Cartesian coordinates\nprojection = pyproj.Proj(proj=\"merc\", lat_ts=data.latitude.mean())\neasting, northing = projection(data.longitude.values, data.latitude.values)\ncoordinates = (easting, northing, data.altitude_m)\n\n# Create the equivalent layer. We'll use the default point source configuration at a\n# constant relative depth beneath each observation point. The damping parameter helps\n# smooth the predicted data and ensure stability.\neql = hm.EQLHarmonic(relative_depth=1000, damping=10)\n\n# Fit the layer coefficients to the observed magnetic anomaly.\neql.fit(coordinates, data.total_field_anomaly_nt)\n\n# Evaluate the data fit by calculating an R\u00b2 score against the observed data.\n# This is a measure of how well layer the fits the data NOT how good the interpolation\n# will be.\nprint(\"R\u00b2 score:\", eql.score(coordinates, data.total_field_anomaly_nt))\n\n# Interpolate data on a regular grid with 400 m spacing. The interpolation requires an\n# extra coordinate (upward height). By passing in 500 m, we're effectively\n# upward-continuing the data (mean flight height is 200 m).\ngrid = eql.grid(spacing=400, data_names=[\"magnetic_anomaly\"], extra_coords=500)\n\n# The grid is a xarray.Dataset with values, coordinates, and metadata\nprint(\"\\nGenerated grid:\\n\", grid)\n\n# Plot original magnetic anomaly and the gridded and upward-continued version\nfig, (ax1, ax2) = plt.subplots(nrows=1, ncols=2, figsize=(12, 6), sharey=True)\n\n# Get the maximum absolute value between the original and gridded data so we can use the\n# same color scale for both plots and have 0 centered at the white color.\nmaxabs = vd.maxabs(data.total_field_anomaly_nt, grid.magnetic_anomaly.values)\n\nax1.set_title(\"Observed magnetic anomaly data\")\ntmp = ax1.scatter(\n    easting,\n    northing,\n    c=data.total_field_anomaly_nt,\n    s=20,\n    vmin=-maxabs,\n    vmax=maxabs,\n    cmap=\"seismic\",\n)\nplt.colorbar(tmp, ax=ax1, label=\"nT\", pad=0.05, aspect=40, orientation=\"horizontal\")\n\nax2.set_title(\"Gridded and upward-continued\")\ntmp = grid.magnetic_anomaly.plot.pcolormesh(\n    ax=ax2,\n    add_colorbar=False,\n    add_labels=False,\n    vmin=-maxabs,\n    vmax=maxabs,\n    cmap=\"seismic\",\n)\nplt.colorbar(tmp, ax=ax2, label=\"nT\", pad=0.05, aspect=40, orientation=\"horizontal\")\n\nplt.tight_layout(pad=0)\nplt.show()"
      ]
    }
  ],
  "metadata": {
    "kernelspec": {
      "display_name": "Python 3",
      "language": "python",
      "name": "python3"
    },
    "language_info": {
      "codemirror_mode": {
        "name": "ipython",
        "version": 3
      },
      "file_extension": ".py",
      "mimetype": "text/x-python",
      "name": "python",
      "nbconvert_exporter": "python",
      "pygments_lexer": "ipython3",
      "version": "3.6.7"
    }
  },
  "nbformat": 4,
  "nbformat_minor": 0
}